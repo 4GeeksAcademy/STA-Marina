{
    "cells": [
        {
            "cell_type": "markdown",
            "metadata": {},
            "source": [
                "# Explore here"
            ]
        },
        {
            "cell_type": "code",
            "execution_count": 29,
            "metadata": {},
            "outputs": [],
            "source": [
                "import pandas as pd\n",
                "import matplotlib.pyplot as plt\n",
                "from sklearn.metrics import *\n",
                "from imblearn.metrics import specificity_score\n",
                "import requests\n",
                "from sklearn.preprocessing import MinMaxScaler, StandardScaler\n",
                "from pickle import dump\n",
                "from sklearn.model_selection import train_test_split\n",
                "from sklearn.feature_extraction.text import CountVectorizer\n",
                "from sklearn.metrics import classification_report\n",
                "import re\n",
                "from sklearn.neighbors import KNeighborsClassifier\n",
                "from statsmodels.tsa.stattools import adfuller\n",
                "from pmdarima import auto_arima\n",
                "import seaborn as sns"
            ]
        },
        {
            "cell_type": "code",
            "execution_count": 3,
            "metadata": {},
            "outputs": [
                {
                    "data": {
                        "text/plain": [
                            "'\\nurl = \"https://raw.githubusercontent.com/4GeeksAcademy/alternative-time-series-project/main/sales.csv\"\\nresponse = requests.get(url).content.decode(\\'utf-8\\')\\n\\nfile_name_m = \\'../data/raw/sales.csv\\'\\n\\nwith open(file_name_m, \\'w\\') as temp_file:\\n    temp_file.writelines(response)\\n'"
                        ]
                    },
                    "execution_count": 3,
                    "metadata": {},
                    "output_type": "execute_result"
                }
            ],
            "source": [
                "'''\n",
                "url = \"https://raw.githubusercontent.com/4GeeksAcademy/alternative-time-series-project/main/sales.csv\"\n",
                "response = requests.get(url).content.decode('utf-8')\n",
                "\n",
                "file_name_m = '../data/raw/sales.csv'\n",
                "\n",
                "with open(file_name_m, 'w') as temp_file:\n",
                "    temp_file.writelines(response)\n",
                "'''"
            ]
        },
        {
            "cell_type": "code",
            "execution_count": 4,
            "metadata": {},
            "outputs": [],
            "source": [
                "file_name = '../data/raw/sales.csv'\n",
                "df = pd.read_csv(file_name)\n",
                "pd.set_option('display.max_columns', None)"
            ]
        },
        {
            "cell_type": "code",
            "execution_count": 5,
            "metadata": {},
            "outputs": [
                {
                    "data": {
                        "text/html": [
                            "<div>\n",
                            "<style scoped>\n",
                            "    .dataframe tbody tr th:only-of-type {\n",
                            "        vertical-align: middle;\n",
                            "    }\n",
                            "\n",
                            "    .dataframe tbody tr th {\n",
                            "        vertical-align: top;\n",
                            "    }\n",
                            "\n",
                            "    .dataframe thead th {\n",
                            "        text-align: right;\n",
                            "    }\n",
                            "</style>\n",
                            "<table border=\"1\" class=\"dataframe\">\n",
                            "  <thead>\n",
                            "    <tr style=\"text-align: right;\">\n",
                            "      <th></th>\n",
                            "      <th>date</th>\n",
                            "      <th>sales</th>\n",
                            "    </tr>\n",
                            "  </thead>\n",
                            "  <tbody>\n",
                            "    <tr>\n",
                            "      <th>0</th>\n",
                            "      <td>2022-09-03 17:10:08.079328</td>\n",
                            "      <td>55.292157</td>\n",
                            "    </tr>\n",
                            "    <tr>\n",
                            "      <th>1</th>\n",
                            "      <td>2022-09-04 17:10:08.079328</td>\n",
                            "      <td>53.803211</td>\n",
                            "    </tr>\n",
                            "    <tr>\n",
                            "      <th>2</th>\n",
                            "      <td>2022-09-05 17:10:08.079328</td>\n",
                            "      <td>58.141693</td>\n",
                            "    </tr>\n",
                            "    <tr>\n",
                            "      <th>3</th>\n",
                            "      <td>2022-09-06 17:10:08.079328</td>\n",
                            "      <td>64.530899</td>\n",
                            "    </tr>\n",
                            "    <tr>\n",
                            "      <th>4</th>\n",
                            "      <td>2022-09-07 17:10:08.079328</td>\n",
                            "      <td>66.013633</td>\n",
                            "    </tr>\n",
                            "  </tbody>\n",
                            "</table>\n",
                            "</div>"
                        ],
                        "text/plain": [
                            "                         date      sales\n",
                            "0  2022-09-03 17:10:08.079328  55.292157\n",
                            "1  2022-09-04 17:10:08.079328  53.803211\n",
                            "2  2022-09-05 17:10:08.079328  58.141693\n",
                            "3  2022-09-06 17:10:08.079328  64.530899\n",
                            "4  2022-09-07 17:10:08.079328  66.013633"
                        ]
                    },
                    "execution_count": 5,
                    "metadata": {},
                    "output_type": "execute_result"
                }
            ],
            "source": [
                "df.head()"
            ]
        },
        {
            "cell_type": "code",
            "execution_count": 6,
            "metadata": {},
            "outputs": [
                {
                    "data": {
                        "text/plain": [
                            "date      object\n",
                            "sales    float64\n",
                            "dtype: object"
                        ]
                    },
                    "execution_count": 6,
                    "metadata": {},
                    "output_type": "execute_result"
                }
            ],
            "source": [
                "df.dtypes"
            ]
        },
        {
            "cell_type": "code",
            "execution_count": 7,
            "metadata": {},
            "outputs": [
                {
                    "data": {
                        "text/plain": [
                            "date     0\n",
                            "sales    0\n",
                            "dtype: int64"
                        ]
                    },
                    "execution_count": 7,
                    "metadata": {},
                    "output_type": "execute_result"
                }
            ],
            "source": [
                "df.isna().sum()"
            ]
        },
        {
            "cell_type": "code",
            "execution_count": 8,
            "metadata": {},
            "outputs": [
                {
                    "data": {
                        "text/plain": [
                            "date     366\n",
                            "sales    366\n",
                            "dtype: int64"
                        ]
                    },
                    "execution_count": 8,
                    "metadata": {},
                    "output_type": "execute_result"
                }
            ],
            "source": [
                "df.nunique()"
            ]
        },
        {
            "cell_type": "code",
            "execution_count": 9,
            "metadata": {},
            "outputs": [
                {
                    "data": {
                        "text/plain": [
                            "(366, 2)"
                        ]
                    },
                    "execution_count": 9,
                    "metadata": {},
                    "output_type": "execute_result"
                }
            ],
            "source": [
                "df.shape"
            ]
        },
        {
            "cell_type": "markdown",
            "metadata": {},
            "source": [
                "Observamos que no hay valores nulos, ni tampoco campos vacíos, ya que hay tantos valores por producto y fecha como tamaño del dataframe."
            ]
        },
        {
            "cell_type": "code",
            "execution_count": 10,
            "metadata": {},
            "outputs": [
                {
                    "data": {
                        "text/plain": [
                            "date     datetime64[ns]\n",
                            "sales           float64\n",
                            "dtype: object"
                        ]
                    },
                    "execution_count": 10,
                    "metadata": {},
                    "output_type": "execute_result"
                }
            ],
            "source": [
                "df.date = pd.to_datetime(df.date)\n",
                "df.dtypes"
            ]
        },
        {
            "cell_type": "code",
            "execution_count": 11,
            "metadata": {},
            "outputs": [
                {
                    "data": {
                        "text/plain": [
                            "365"
                        ]
                    },
                    "execution_count": 11,
                    "metadata": {},
                    "output_type": "execute_result"
                }
            ],
            "source": [
                "(df.date.max()-df.date.min()).days"
            ]
        },
        {
            "cell_type": "code",
            "execution_count": 12,
            "metadata": {},
            "outputs": [
                {
                    "data": {
                        "text/plain": [
                            "366"
                        ]
                    },
                    "execution_count": 12,
                    "metadata": {},
                    "output_type": "execute_result"
                }
            ],
            "source": [
                "df.date.nunique()"
            ]
        },
        {
            "cell_type": "markdown",
            "metadata": {},
            "source": [
                "Observamos como se trata de los datos a lo largo de un año, con un valor por día."
            ]
        },
        {
            "cell_type": "code",
            "execution_count": 13,
            "metadata": {},
            "outputs": [
                {
                    "data": {
                        "text/plain": [
                            "[<matplotlib.lines.Line2D at 0x70edb8e4aad0>]"
                        ]
                    },
                    "execution_count": 13,
                    "metadata": {},
                    "output_type": "execute_result"
                },
                {
                    "data": {
                        "image/png": "[encoded data removed]",
                        "text/plain": [
                            "<Figure size 640x480 with 1 Axes>"
                        ]
                    },
                    "metadata": {},
                    "output_type": "display_data"
                }
            ],
            "source": [
                "plt.plot(df.date, df.sales)"
            ]
        },
        {
            "cell_type": "code",
            "execution_count": 14,
            "metadata": {},
            "outputs": [
                {
                    "data": {
                        "text/plain": [
                            "0     2022-09-03 17:10:08.079328\n",
                            "1     2022-09-04 17:10:08.079328\n",
                            "2     2022-09-05 17:10:08.079328\n",
                            "3     2022-09-06 17:10:08.079328\n",
                            "4     2022-09-07 17:10:08.079328\n",
                            "                 ...            \n",
                            "361   2023-08-30 17:10:08.079328\n",
                            "362   2023-08-31 17:10:08.079328\n",
                            "363   2023-09-01 17:10:08.079328\n",
                            "364   2023-09-02 17:10:08.079328\n",
                            "365   2023-09-03 17:10:08.079328\n",
                            "Name: date, Length: 366, dtype: datetime64[ns]"
                        ]
                    },
                    "execution_count": 14,
                    "metadata": {},
                    "output_type": "execute_result"
                }
            ],
            "source": [
                "df.date"
            ]
        },
        {
            "cell_type": "markdown",
            "metadata": {},
            "source": [
                "¿Cuál es el tensor de la serie temporal? El tensor es un día natural.\n",
                "\n",
                "¿Cuál es la tendencia? Ascendente\n",
                "\n",
                "¿Es estacionaria? No\n",
                "\n",
                "¿Existe variabilidad o presencia de ruido? No hay variabilidad estacional y el ruido es mínimo."
            ]
        },
        {
            "cell_type": "code",
            "execution_count": 15,
            "metadata": {},
            "outputs": [],
            "source": [
                "def test_stationarity(timeseries):\n",
                "    print(\"Resultados de la prueba de Dickey-Fuller:\")\n",
                "    dftest = adfuller(timeseries, autolag = \"AIC\")\n",
                "    dfoutput = pd.Series(dftest[0:4], index = [\"Test Statistic\", \"p-value\", \"#Lags Used\", \"Number of Observations Used\"])\n",
                "    for key,value in dftest[4].items():\n",
                "        dfoutput[\"Critical Value (%s)\"%key] = value\n",
                "    return dfoutput"
            ]
        },
        {
            "cell_type": "code",
            "execution_count": 22,
            "metadata": {},
            "outputs": [
                {
                    "data": {
                        "text/plain": [
                            "date\n",
                            "2022-09-03 17:10:08.079328    55.292157\n",
                            "2022-09-04 17:10:08.079328    53.803211\n",
                            "2022-09-05 17:10:08.079328    58.141693\n",
                            "2022-09-06 17:10:08.079328    64.530899\n",
                            "2022-09-07 17:10:08.079328    66.013633\n",
                            "Name: sales, dtype: float64"
                        ]
                    },
                    "execution_count": 22,
                    "metadata": {},
                    "output_type": "execute_result"
                }
            ],
            "source": [
                "total_data = df.set_index(\"date\")\n",
                "ts = total_data[\"sales\"]\n",
                "ts.head()\n"
            ]
        },
        {
            "cell_type": "code",
            "execution_count": null,
            "metadata": {},
            "outputs": [
                {
                    "name": "stdout",
                    "output_type": "stream",
                    "text": [
                        "Resultados de la prueba de Dickey-Fuller:\n"
                    ]
                },
                {
                    "data": {
                        "text/plain": [
                            "Test Statistic                   0.545414\n",
                            "p-value                          0.986190\n",
                            "#Lags Used                      13.000000\n",
                            "Number of Observations Used    352.000000\n",
                            "Critical Value (1%)             -3.449065\n",
                            "Critical Value (5%)             -2.869786\n",
                            "Critical Value (10%)            -2.571163\n",
                            "dtype: float64"
                        ]
                    },
                    "execution_count": 25,
                    "metadata": {},
                    "output_type": "execute_result"
                }
            ],
            "source": [
                "test_stationarity(ts)"
            ]
        },
        {
            "cell_type": "markdown",
            "metadata": {},
            "source": [
                "Aquí podemos ver que el p-value es mayor a 0.05, esto significa que nuestra hipótesis nula será rechazada y tomaremos esta serie como no estacionaria.\n",
                "\n",
                "Pasamos a convertirla a estacionaria."
            ]
        },
        {
            "cell_type": "code",
            "execution_count": 26,
            "metadata": {},
            "outputs": [
                {
                    "name": "stdout",
                    "output_type": "stream",
                    "text": [
                        "Resultados de la prueba de Dickey-Fuller:\n"
                    ]
                },
                {
                    "data": {
                        "text/plain": [
                            "Test Statistic                -9.430263e+00\n",
                            "p-value                        5.212954e-16\n",
                            "#Lags Used                     1.200000e+01\n",
                            "Number of Observations Used    3.520000e+02\n",
                            "Critical Value (1%)           -3.449065e+00\n",
                            "Critical Value (5%)           -2.869786e+00\n",
                            "Critical Value (10%)          -2.571163e+00\n",
                            "dtype: float64"
                        ]
                    },
                    "execution_count": 26,
                    "metadata": {},
                    "output_type": "execute_result"
                }
            ],
            "source": [
                "ts_stationary = ts.diff().dropna()\n",
                "\n",
                "test_stationarity(ts_stationary)"
            ]
        },
        {
            "cell_type": "markdown",
            "metadata": {},
            "source": [
                "Aquí podemos ver que el p-value es menor a 0.05, esto significa que nuestra hipótesis nula es aceptada y tomaremos esta serie como estacionaria."
            ]
        },
        {
            "cell_type": "code",
            "execution_count": 27,
            "metadata": {},
            "outputs": [
                {
                    "name": "stderr",
                    "output_type": "stream",
                    "text": [
                        "/home/vscode/.local/lib/python3.10/site-packages/sklearn/utils/deprecation.py:151: FutureWarning: 'force_all_finite' was renamed to 'ensure_all_finite' in 1.6 and will be removed in 1.8.\n",
                        "  warnings.warn(\n",
                        "/home/vscode/.local/lib/python3.10/site-packages/sklearn/utils/deprecation.py:151: FutureWarning: 'force_all_finite' was renamed to 'ensure_all_finite' in 1.6 and will be removed in 1.8.\n",
                        "  warnings.warn(\n",
                        "/home/vscode/.local/lib/python3.10/site-packages/sklearn/utils/deprecation.py:151: FutureWarning: 'force_all_finite' was renamed to 'ensure_all_finite' in 1.6 and will be removed in 1.8.\n",
                        "  warnings.warn(\n",
                        "/home/vscode/.local/lib/python3.10/site-packages/sklearn/utils/deprecation.py:151: FutureWarning: 'force_all_finite' was renamed to 'ensure_all_finite' in 1.6 and will be removed in 1.8.\n",
                        "  warnings.warn(\n",
                        "/home/vscode/.local/lib/python3.10/site-packages/sklearn/utils/deprecation.py:151: FutureWarning: 'force_all_finite' was renamed to 'ensure_all_finite' in 1.6 and will be removed in 1.8.\n",
                        "  warnings.warn(\n",
                        "/home/vscode/.local/lib/python3.10/site-packages/sklearn/utils/deprecation.py:151: FutureWarning: 'force_all_finite' was renamed to 'ensure_all_finite' in 1.6 and will be removed in 1.8.\n",
                        "  warnings.warn(\n",
                        "/home/vscode/.local/lib/python3.10/site-packages/sklearn/utils/deprecation.py:151: FutureWarning: 'force_all_finite' was renamed to 'ensure_all_finite' in 1.6 and will be removed in 1.8.\n",
                        "  warnings.warn(\n",
                        "/home/vscode/.local/lib/python3.10/site-packages/sklearn/utils/deprecation.py:151: FutureWarning: 'force_all_finite' was renamed to 'ensure_all_finite' in 1.6 and will be removed in 1.8.\n",
                        "  warnings.warn(\n"
                    ]
                },
                {
                    "name": "stdout",
                    "output_type": "stream",
                    "text": [
                        "Performing stepwise search to minimize aic\n",
                        " ARIMA(2,0,2)(1,0,1)[12] intercept   : AIC=1847.119, Time=1.09 sec\n",
                        " ARIMA(0,0,0)(0,0,0)[12] intercept   : AIC=2096.542, Time=0.01 sec\n"
                    ]
                },
                {
                    "name": "stderr",
                    "output_type": "stream",
                    "text": [
                        "/home/vscode/.local/lib/python3.10/site-packages/sklearn/utils/deprecation.py:151: FutureWarning: 'force_all_finite' was renamed to 'ensure_all_finite' in 1.6 and will be removed in 1.8.\n",
                        "  warnings.warn(\n",
                        "/home/vscode/.local/lib/python3.10/site-packages/sklearn/utils/deprecation.py:151: FutureWarning: 'force_all_finite' was renamed to 'ensure_all_finite' in 1.6 and will be removed in 1.8.\n",
                        "  warnings.warn(\n"
                    ]
                },
                {
                    "name": "stdout",
                    "output_type": "stream",
                    "text": [
                        " ARIMA(1,0,0)(1,0,0)[12] intercept   : AIC=1972.854, Time=0.20 sec\n"
                    ]
                },
                {
                    "name": "stderr",
                    "output_type": "stream",
                    "text": [
                        "/home/vscode/.local/lib/python3.10/site-packages/sklearn/utils/deprecation.py:151: FutureWarning: 'force_all_finite' was renamed to 'ensure_all_finite' in 1.6 and will be removed in 1.8.\n",
                        "  warnings.warn(\n"
                    ]
                },
                {
                    "name": "stdout",
                    "output_type": "stream",
                    "text": [
                        " ARIMA(0,0,1)(0,0,1)[12] intercept   : AIC=inf, Time=0.51 sec\n",
                        " ARIMA(0,0,0)(0,0,0)[12]             : AIC=2209.657, Time=0.01 sec\n"
                    ]
                },
                {
                    "name": "stderr",
                    "output_type": "stream",
                    "text": [
                        "/home/vscode/.local/lib/python3.10/site-packages/sklearn/utils/deprecation.py:151: FutureWarning: 'force_all_finite' was renamed to 'ensure_all_finite' in 1.6 and will be removed in 1.8.\n",
                        "  warnings.warn(\n",
                        "/home/vscode/.local/lib/python3.10/site-packages/sklearn/utils/deprecation.py:151: FutureWarning: 'force_all_finite' was renamed to 'ensure_all_finite' in 1.6 and will be removed in 1.8.\n",
                        "  warnings.warn(\n"
                    ]
                },
                {
                    "name": "stdout",
                    "output_type": "stream",
                    "text": [
                        " ARIMA(2,0,2)(0,0,1)[12] intercept   : AIC=1845.127, Time=0.61 sec\n"
                    ]
                },
                {
                    "name": "stderr",
                    "output_type": "stream",
                    "text": [
                        "/home/vscode/.local/lib/python3.10/site-packages/sklearn/utils/deprecation.py:151: FutureWarning: 'force_all_finite' was renamed to 'ensure_all_finite' in 1.6 and will be removed in 1.8.\n",
                        "  warnings.warn(\n"
                    ]
                },
                {
                    "name": "stdout",
                    "output_type": "stream",
                    "text": [
                        " ARIMA(2,0,2)(0,0,0)[12] intercept   : AIC=1843.049, Time=0.35 sec\n"
                    ]
                },
                {
                    "name": "stderr",
                    "output_type": "stream",
                    "text": [
                        "/home/vscode/.local/lib/python3.10/site-packages/sklearn/utils/deprecation.py:151: FutureWarning: 'force_all_finite' was renamed to 'ensure_all_finite' in 1.6 and will be removed in 1.8.\n",
                        "  warnings.warn(\n"
                    ]
                },
                {
                    "name": "stdout",
                    "output_type": "stream",
                    "text": [
                        " ARIMA(2,0,2)(1,0,0)[12] intercept   : AIC=1845.092, Time=0.83 sec\n"
                    ]
                },
                {
                    "name": "stderr",
                    "output_type": "stream",
                    "text": [
                        "/home/vscode/.local/lib/python3.10/site-packages/sklearn/utils/deprecation.py:151: FutureWarning: 'force_all_finite' was renamed to 'ensure_all_finite' in 1.6 and will be removed in 1.8.\n",
                        "  warnings.warn(\n"
                    ]
                },
                {
                    "name": "stdout",
                    "output_type": "stream",
                    "text": [
                        " ARIMA(1,0,2)(0,0,0)[12] intercept   : AIC=1843.587, Time=0.22 sec\n"
                    ]
                },
                {
                    "name": "stderr",
                    "output_type": "stream",
                    "text": [
                        "/home/vscode/.local/lib/python3.10/site-packages/sklearn/utils/deprecation.py:151: FutureWarning: 'force_all_finite' was renamed to 'ensure_all_finite' in 1.6 and will be removed in 1.8.\n",
                        "  warnings.warn(\n"
                    ]
                },
                {
                    "name": "stdout",
                    "output_type": "stream",
                    "text": [
                        " ARIMA(2,0,1)(0,0,0)[12] intercept   : AIC=1841.533, Time=0.54 sec\n"
                    ]
                },
                {
                    "name": "stderr",
                    "output_type": "stream",
                    "text": [
                        "/home/vscode/.local/lib/python3.10/site-packages/sklearn/utils/deprecation.py:151: FutureWarning: 'force_all_finite' was renamed to 'ensure_all_finite' in 1.6 and will be removed in 1.8.\n",
                        "  warnings.warn(\n"
                    ]
                },
                {
                    "name": "stdout",
                    "output_type": "stream",
                    "text": [
                        " ARIMA(2,0,1)(1,0,0)[12] intercept   : AIC=1843.436, Time=1.00 sec\n"
                    ]
                },
                {
                    "name": "stderr",
                    "output_type": "stream",
                    "text": [
                        "/home/vscode/.local/lib/python3.10/site-packages/sklearn/utils/deprecation.py:151: FutureWarning: 'force_all_finite' was renamed to 'ensure_all_finite' in 1.6 and will be removed in 1.8.\n",
                        "  warnings.warn(\n"
                    ]
                },
                {
                    "name": "stdout",
                    "output_type": "stream",
                    "text": [
                        " ARIMA(2,0,1)(0,0,1)[12] intercept   : AIC=1843.433, Time=0.80 sec\n"
                    ]
                },
                {
                    "name": "stderr",
                    "output_type": "stream",
                    "text": [
                        "/home/vscode/.local/lib/python3.10/site-packages/sklearn/utils/deprecation.py:151: FutureWarning: 'force_all_finite' was renamed to 'ensure_all_finite' in 1.6 and will be removed in 1.8.\n",
                        "  warnings.warn(\n"
                    ]
                },
                {
                    "name": "stdout",
                    "output_type": "stream",
                    "text": [
                        " ARIMA(2,0,1)(1,0,1)[12] intercept   : AIC=inf, Time=1.09 sec\n",
                        " ARIMA(1,0,1)(0,0,0)[12] intercept   : AIC=1839.553, Time=0.18 sec\n"
                    ]
                },
                {
                    "name": "stderr",
                    "output_type": "stream",
                    "text": [
                        "/home/vscode/.local/lib/python3.10/site-packages/sklearn/utils/deprecation.py:151: FutureWarning: 'force_all_finite' was renamed to 'ensure_all_finite' in 1.6 and will be removed in 1.8.\n",
                        "  warnings.warn(\n",
                        "/home/vscode/.local/lib/python3.10/site-packages/sklearn/utils/deprecation.py:151: FutureWarning: 'force_all_finite' was renamed to 'ensure_all_finite' in 1.6 and will be removed in 1.8.\n",
                        "  warnings.warn(\n"
                    ]
                },
                {
                    "name": "stdout",
                    "output_type": "stream",
                    "text": [
                        " ARIMA(1,0,1)(1,0,0)[12] intercept   : AIC=1841.455, Time=0.55 sec\n"
                    ]
                },
                {
                    "name": "stderr",
                    "output_type": "stream",
                    "text": [
                        "/home/vscode/.local/lib/python3.10/site-packages/sklearn/utils/deprecation.py:151: FutureWarning: 'force_all_finite' was renamed to 'ensure_all_finite' in 1.6 and will be removed in 1.8.\n",
                        "  warnings.warn(\n"
                    ]
                },
                {
                    "name": "stdout",
                    "output_type": "stream",
                    "text": [
                        " ARIMA(1,0,1)(0,0,1)[12] intercept   : AIC=1841.455, Time=0.34 sec\n"
                    ]
                },
                {
                    "name": "stderr",
                    "output_type": "stream",
                    "text": [
                        "/home/vscode/.local/lib/python3.10/site-packages/sklearn/utils/deprecation.py:151: FutureWarning: 'force_all_finite' was renamed to 'ensure_all_finite' in 1.6 and will be removed in 1.8.\n",
                        "  warnings.warn(\n"
                    ]
                },
                {
                    "name": "stdout",
                    "output_type": "stream",
                    "text": [
                        " ARIMA(1,0,1)(1,0,1)[12] intercept   : AIC=1843.455, Time=0.77 sec\n",
                        " ARIMA(0,0,1)(0,0,0)[12] intercept   : AIC=1839.587, Time=0.09 sec\n",
                        " ARIMA(1,0,0)(0,0,0)[12] intercept   : AIC=1970.972, Time=0.03 sec\n"
                    ]
                },
                {
                    "name": "stderr",
                    "output_type": "stream",
                    "text": [
                        "/home/vscode/.local/lib/python3.10/site-packages/sklearn/utils/deprecation.py:151: FutureWarning: 'force_all_finite' was renamed to 'ensure_all_finite' in 1.6 and will be removed in 1.8.\n",
                        "  warnings.warn(\n",
                        "/home/vscode/.local/lib/python3.10/site-packages/sklearn/utils/deprecation.py:151: FutureWarning: 'force_all_finite' was renamed to 'ensure_all_finite' in 1.6 and will be removed in 1.8.\n",
                        "  warnings.warn(\n",
                        "/home/vscode/.local/lib/python3.10/site-packages/sklearn/utils/deprecation.py:151: FutureWarning: 'force_all_finite' was renamed to 'ensure_all_finite' in 1.6 and will be removed in 1.8.\n",
                        "  warnings.warn(\n"
                    ]
                },
                {
                    "name": "stdout",
                    "output_type": "stream",
                    "text": [
                        " ARIMA(0,0,2)(0,0,0)[12] intercept   : AIC=1839.608, Time=0.25 sec\n",
                        " ARIMA(2,0,0)(0,0,0)[12] intercept   : AIC=1922.649, Time=0.11 sec\n"
                    ]
                },
                {
                    "name": "stderr",
                    "output_type": "stream",
                    "text": [
                        "/home/vscode/.local/lib/python3.10/site-packages/sklearn/utils/deprecation.py:151: FutureWarning: 'force_all_finite' was renamed to 'ensure_all_finite' in 1.6 and will be removed in 1.8.\n",
                        "  warnings.warn(\n",
                        "/home/vscode/.local/lib/python3.10/site-packages/sklearn/utils/deprecation.py:151: FutureWarning: 'force_all_finite' was renamed to 'ensure_all_finite' in 1.6 and will be removed in 1.8.\n",
                        "  warnings.warn(\n"
                    ]
                },
                {
                    "name": "stdout",
                    "output_type": "stream",
                    "text": [
                        " ARIMA(1,0,1)(0,0,0)[12]             : AIC=inf, Time=0.26 sec\n",
                        "\n",
                        "Best model:  ARIMA(1,0,1)(0,0,0)[12] intercept\n",
                        "Total fit time: 9.863 seconds\n"
                    ]
                }
            ],
            "source": [
                "model = auto_arima(ts_stationary, seasonal = True, trace = True, m = 12)"
            ]
        },
        {
            "cell_type": "markdown",
            "metadata": {},
            "source": [
                "Los hiperparámetros más optimos para el modelo de Arima son:\n",
                "\n",
                "Best model:  ARIMA(1,0,1)"
            ]
        },
        {
            "cell_type": "code",
            "execution_count": 28,
            "metadata": {},
            "outputs": [
                {
                    "data": {
                        "text/html": [
                            "<table class=\"simpletable\">\n",
                            "<caption>SARIMAX Results</caption>\n",
                            "<tr>\n",
                            "  <th>Dep. Variable:</th>           <td>y</td>        <th>  No. Observations:  </th>    <td>365</td>  \n",
                            "</tr>\n",
                            "<tr>\n",
                            "  <th>Model:</th>           <td>SARIMAX(1, 0, 1)</td> <th>  Log Likelihood     </th> <td>-915.776</td>\n",
                            "</tr>\n",
                            "<tr>\n",
                            "  <th>Date:</th>            <td>Thu, 06 Feb 2025</td> <th>  AIC                </th> <td>1839.553</td>\n",
                            "</tr>\n",
                            "<tr>\n",
                            "  <th>Time:</th>                <td>16:31:31</td>     <th>  BIC                </th> <td>1855.152</td>\n",
                            "</tr>\n",
                            "<tr>\n",
                            "  <th>Sample:</th>             <td>09-04-2022</td>    <th>  HQIC               </th> <td>1845.752</td>\n",
                            "</tr>\n",
                            "<tr>\n",
                            "  <th></th>                   <td>- 09-03-2023</td>   <th>                     </th>     <td> </td>   \n",
                            "</tr>\n",
                            "<tr>\n",
                            "  <th>Covariance Type:</th>        <td>opg</td>       <th>                     </th>     <td> </td>   \n",
                            "</tr>\n",
                            "</table>\n",
                            "<table class=\"simpletable\">\n",
                            "<tr>\n",
                            "      <td></td>         <th>coef</th>     <th>std err</th>      <th>z</th>      <th>P>|z|</th>  <th>[0.025</th>    <th>0.975]</th>  \n",
                            "</tr>\n",
                            "<tr>\n",
                            "  <th>intercept</th> <td>    2.8110</td> <td>    0.134</td> <td>   21.055</td> <td> 0.000</td> <td>    2.549</td> <td>    3.073</td>\n",
                            "</tr>\n",
                            "<tr>\n",
                            "  <th>ar.L1</th>     <td>   -0.0821</td> <td>    0.052</td> <td>   -1.592</td> <td> 0.111</td> <td>   -0.183</td> <td>    0.019</td>\n",
                            "</tr>\n",
                            "<tr>\n",
                            "  <th>ma.L1</th>     <td>   -0.9413</td> <td>    0.020</td> <td>  -47.701</td> <td> 0.000</td> <td>   -0.980</td> <td>   -0.903</td>\n",
                            "</tr>\n",
                            "<tr>\n",
                            "  <th>sigma2</th>    <td>    8.7903</td> <td>    0.688</td> <td>   12.777</td> <td> 0.000</td> <td>    7.442</td> <td>   10.139</td>\n",
                            "</tr>\n",
                            "</table>\n",
                            "<table class=\"simpletable\">\n",
                            "<tr>\n",
                            "  <th>Ljung-Box (L1) (Q):</th>     <td>0.00</td> <th>  Jarque-Bera (JB):  </th> <td>0.76</td>\n",
                            "</tr>\n",
                            "<tr>\n",
                            "  <th>Prob(Q):</th>                <td>1.00</td> <th>  Prob(JB):          </th> <td>0.68</td>\n",
                            "</tr>\n",
                            "<tr>\n",
                            "  <th>Heteroskedasticity (H):</th> <td>0.90</td> <th>  Skew:              </th> <td>0.07</td>\n",
                            "</tr>\n",
                            "<tr>\n",
                            "  <th>Prob(H) (two-sided):</th>    <td>0.58</td> <th>  Kurtosis:          </th> <td>2.82</td>\n",
                            "</tr>\n",
                            "</table><br/><br/>Warnings:<br/>[1] Covariance matrix calculated using the outer product of gradients (complex-step)."
                        ],
                        "text/latex": [
                            "\\begin{center}\n",
                            "\\begin{tabular}{lclc}\n",
                            "\\toprule\n",
                            "\\textbf{Dep. Variable:}          &        y         & \\textbf{  No. Observations:  } &    365      \\\\\n",
                            "\\textbf{Model:}                  & SARIMAX(1, 0, 1) & \\textbf{  Log Likelihood     } &  -915.776   \\\\\n",
                            "\\textbf{Date:}                   & Thu, 06 Feb 2025 & \\textbf{  AIC                } &  1839.553   \\\\\n",
                            "\\textbf{Time:}                   &     16:31:31     & \\textbf{  BIC                } &  1855.152   \\\\\n",
                            "\\textbf{Sample:}                 &    09-04-2022    & \\textbf{  HQIC               } &  1845.752   \\\\\n",
                            "\\textbf{}                        &   - 09-03-2023   & \\textbf{                     } &             \\\\\n",
                            "\\textbf{Covariance Type:}        &       opg        & \\textbf{                     } &             \\\\\n",
                            "\\bottomrule\n",
                            "\\end{tabular}\n",
                            "\\begin{tabular}{lcccccc}\n",
                            "                   & \\textbf{coef} & \\textbf{std err} & \\textbf{z} & \\textbf{P$> |$z$|$} & \\textbf{[0.025} & \\textbf{0.975]}  \\\\\n",
                            "\\midrule\n",
                            "\\textbf{intercept} &       2.8110  &        0.134     &    21.055  &         0.000        &        2.549    &        3.073     \\\\\n",
                            "\\textbf{ar.L1}     &      -0.0821  &        0.052     &    -1.592  &         0.111        &       -0.183    &        0.019     \\\\\n",
                            "\\textbf{ma.L1}     &      -0.9413  &        0.020     &   -47.701  &         0.000        &       -0.980    &       -0.903     \\\\\n",
                            "\\textbf{sigma2}    &       8.7903  &        0.688     &    12.777  &         0.000        &        7.442    &       10.139     \\\\\n",
                            "\\bottomrule\n",
                            "\\end{tabular}\n",
                            "\\begin{tabular}{lclc}\n",
                            "\\textbf{Ljung-Box (L1) (Q):}     & 0.00 & \\textbf{  Jarque-Bera (JB):  } & 0.76  \\\\\n",
                            "\\textbf{Prob(Q):}                & 1.00 & \\textbf{  Prob(JB):          } & 0.68  \\\\\n",
                            "\\textbf{Heteroskedasticity (H):} & 0.90 & \\textbf{  Skew:              } & 0.07  \\\\\n",
                            "\\textbf{Prob(H) (two-sided):}    & 0.58 & \\textbf{  Kurtosis:          } & 2.82  \\\\\n",
                            "\\bottomrule\n",
                            "\\end{tabular}\n",
                            "%\\caption{SARIMAX Results}\n",
                            "\\end{center}\n",
                            "\n",
                            "Warnings: \\newline\n",
                            " [1] Covariance matrix calculated using the outer product of gradients (complex-step)."
                        ],
                        "text/plain": [
                            "<class 'statsmodels.iolib.summary.Summary'>\n",
                            "\"\"\"\n",
                            "                               SARIMAX Results                                \n",
                            "==============================================================================\n",
                            "Dep. Variable:                      y   No. Observations:                  365\n",
                            "Model:               SARIMAX(1, 0, 1)   Log Likelihood                -915.776\n",
                            "Date:                Thu, 06 Feb 2025   AIC                           1839.553\n",
                            "Time:                        16:31:31   BIC                           1855.152\n",
                            "Sample:                    09-04-2022   HQIC                          1845.752\n",
                            "                         - 09-03-2023                                         \n",
                            "Covariance Type:                  opg                                         \n",
                            "==============================================================================\n",
                            "                 coef    std err          z      P>|z|      [0.025      0.975]\n",
                            "------------------------------------------------------------------------------\n",
                            "intercept      2.8110      0.134     21.055      0.000       2.549       3.073\n",
                            "ar.L1         -0.0821      0.052     -1.592      0.111      -0.183       0.019\n",
                            "ma.L1         -0.9413      0.020    -47.701      0.000      -0.980      -0.903\n",
                            "sigma2         8.7903      0.688     12.777      0.000       7.442      10.139\n",
                            "===================================================================================\n",
                            "Ljung-Box (L1) (Q):                   0.00   Jarque-Bera (JB):                 0.76\n",
                            "Prob(Q):                              1.00   Prob(JB):                         0.68\n",
                            "Heteroskedasticity (H):               0.90   Skew:                             0.07\n",
                            "Prob(H) (two-sided):                  0.58   Kurtosis:                         2.82\n",
                            "===================================================================================\n",
                            "\n",
                            "Warnings:\n",
                            "[1] Covariance matrix calculated using the outer product of gradients (complex-step).\n",
                            "\"\"\""
                        ]
                    },
                    "execution_count": 28,
                    "metadata": {},
                    "output_type": "execute_result"
                }
            ],
            "source": [
                "model.summary()"
            ]
        },
        {
            "cell_type": "code",
            "execution_count": 45,
            "metadata": {},
            "outputs": [
                {
                    "data": {
                        "text/plain": [
                            "Timestamp('2023-09-03 17:10:08.079328')"
                        ]
                    },
                    "execution_count": 45,
                    "metadata": {},
                    "output_type": "execute_result"
                }
            ],
            "source": [
                "# Visualizamos la última fecha de la serie: 2023-09-03\n",
                "\n",
                "ts_stationary.index[-1]"
            ]
        },
        {
            "cell_type": "code",
            "execution_count": 30,
            "metadata": {},
            "outputs": [
                {
                    "name": "stderr",
                    "output_type": "stream",
                    "text": [
                        "/home/vscode/.local/lib/python3.10/site-packages/sklearn/utils/deprecation.py:151: FutureWarning: 'force_all_finite' was renamed to 'ensure_all_finite' in 1.6 and will be removed in 1.8.\n",
                        "  warnings.warn(\n"
                    ]
                },
                {
                    "data": {
                        "text/plain": [
                            "2023-09-04 17:10:08.079328    1.675366\n",
                            "2023-09-05 17:10:08.079328    2.673520\n",
                            "2023-09-06 17:10:08.079328    2.591621\n",
                            "2023-09-07 17:10:08.079328    2.598341\n",
                            "2023-09-08 17:10:08.079328    2.597789\n",
                            "2023-09-09 17:10:08.079328    2.597834\n",
                            "2023-09-10 17:10:08.079328    2.597831\n",
                            "2023-09-11 17:10:08.079328    2.597831\n",
                            "2023-09-12 17:10:08.079328    2.597831\n",
                            "2023-09-13 17:10:08.079328    2.597831\n",
                            "Freq: D, dtype: float64"
                        ]
                    },
                    "execution_count": 30,
                    "metadata": {},
                    "output_type": "execute_result"
                }
            ],
            "source": [
                "#Predecimos los siguientes 10 valores\n",
                "\n",
                "forecast = model.predict(10)\n",
                "forecast"
            ]
        },
        {
            "cell_type": "code",
            "execution_count": 43,
            "metadata": {},
            "outputs": [
                {
                    "data": {
                        "image/png": "[encoded data removed]",
                        "text/plain": [
                            "<Figure size 1000x500 with 1 Axes>"
                        ]
                    },
                    "metadata": {},
                    "output_type": "display_data"
                }
            ],
            "source": [
                "fig, axis = plt.subplots(figsize = (10, 5))\n",
                "\n",
                "sns.lineplot(data = ts_stationary)\n",
                "sns.lineplot(data = forecast, c = \"red\")\n",
                "\n",
                "plt.tight_layout()\n",
                "\n",
                "plt.show()"
            ]
        },
        {
            "cell_type": "markdown",
            "metadata": {},
            "source": [
                "Voy a probar a comparar con la serie original y el parámetro seasonal a False."
            ]
        },
        {
            "cell_type": "code",
            "execution_count": 51,
            "metadata": {},
            "outputs": [
                {
                    "name": "stderr",
                    "output_type": "stream",
                    "text": [
                        "/home/vscode/.local/lib/python3.10/site-packages/pmdarima/arima/_validation.py:62: UserWarning: m (12) set for non-seasonal fit. Setting to 0\n",
                        "  warnings.warn(\"m (%i) set for non-seasonal fit. Setting to 0\" % m)\n",
                        "/home/vscode/.local/lib/python3.10/site-packages/sklearn/utils/deprecation.py:151: FutureWarning: 'force_all_finite' was renamed to 'ensure_all_finite' in 1.6 and will be removed in 1.8.\n",
                        "  warnings.warn(\n",
                        "/home/vscode/.local/lib/python3.10/site-packages/sklearn/utils/deprecation.py:151: FutureWarning: 'force_all_finite' was renamed to 'ensure_all_finite' in 1.6 and will be removed in 1.8.\n",
                        "  warnings.warn(\n",
                        "/home/vscode/.local/lib/python3.10/site-packages/sklearn/utils/deprecation.py:151: FutureWarning: 'force_all_finite' was renamed to 'ensure_all_finite' in 1.6 and will be removed in 1.8.\n",
                        "  warnings.warn(\n",
                        "/home/vscode/.local/lib/python3.10/site-packages/sklearn/utils/deprecation.py:151: FutureWarning: 'force_all_finite' was renamed to 'ensure_all_finite' in 1.6 and will be removed in 1.8.\n",
                        "  warnings.warn(\n",
                        "/home/vscode/.local/lib/python3.10/site-packages/sklearn/utils/deprecation.py:151: FutureWarning: 'force_all_finite' was renamed to 'ensure_all_finite' in 1.6 and will be removed in 1.8.\n",
                        "  warnings.warn(\n",
                        "/home/vscode/.local/lib/python3.10/site-packages/sklearn/utils/deprecation.py:151: FutureWarning: 'force_all_finite' was renamed to 'ensure_all_finite' in 1.6 and will be removed in 1.8.\n",
                        "  warnings.warn(\n",
                        "/home/vscode/.local/lib/python3.10/site-packages/sklearn/utils/deprecation.py:151: FutureWarning: 'force_all_finite' was renamed to 'ensure_all_finite' in 1.6 and will be removed in 1.8.\n",
                        "  warnings.warn(\n",
                        "/home/vscode/.local/lib/python3.10/site-packages/sklearn/utils/deprecation.py:151: FutureWarning: 'force_all_finite' was renamed to 'ensure_all_finite' in 1.6 and will be removed in 1.8.\n",
                        "  warnings.warn(\n",
                        "/home/vscode/.local/lib/python3.10/site-packages/sklearn/utils/deprecation.py:151: FutureWarning: 'force_all_finite' was renamed to 'ensure_all_finite' in 1.6 and will be removed in 1.8.\n",
                        "  warnings.warn(\n"
                    ]
                },
                {
                    "name": "stdout",
                    "output_type": "stream",
                    "text": [
                        "Performing stepwise search to minimize aic\n",
                        " ARIMA(2,1,2)(0,0,0)[0] intercept   : AIC=1843.274, Time=0.41 sec\n",
                        " ARIMA(0,1,0)(0,0,0)[0] intercept   : AIC=2096.542, Time=0.01 sec\n",
                        " ARIMA(1,1,0)(0,0,0)[0] intercept   : AIC=1970.972, Time=0.04 sec\n",
                        " ARIMA(0,1,1)(0,0,0)[0] intercept   : AIC=1839.586, Time=0.10 sec\n",
                        " ARIMA(0,1,0)(0,0,0)[0]             : AIC=2209.657, Time=0.02 sec\n"
                    ]
                },
                {
                    "name": "stderr",
                    "output_type": "stream",
                    "text": [
                        "/home/vscode/.local/lib/python3.10/site-packages/sklearn/utils/deprecation.py:151: FutureWarning: 'force_all_finite' was renamed to 'ensure_all_finite' in 1.6 and will be removed in 1.8.\n",
                        "  warnings.warn(\n",
                        "/home/vscode/.local/lib/python3.10/site-packages/sklearn/utils/deprecation.py:151: FutureWarning: 'force_all_finite' was renamed to 'ensure_all_finite' in 1.6 and will be removed in 1.8.\n",
                        "  warnings.warn(\n",
                        "/home/vscode/.local/lib/python3.10/site-packages/sklearn/utils/deprecation.py:151: FutureWarning: 'force_all_finite' was renamed to 'ensure_all_finite' in 1.6 and will be removed in 1.8.\n",
                        "  warnings.warn(\n",
                        "/home/vscode/.local/lib/python3.10/site-packages/sklearn/utils/deprecation.py:151: FutureWarning: 'force_all_finite' was renamed to 'ensure_all_finite' in 1.6 and will be removed in 1.8.\n",
                        "  warnings.warn(\n",
                        "/home/vscode/.local/lib/python3.10/site-packages/sklearn/utils/deprecation.py:151: FutureWarning: 'force_all_finite' was renamed to 'ensure_all_finite' in 1.6 and will be removed in 1.8.\n",
                        "  warnings.warn(\n"
                    ]
                },
                {
                    "name": "stdout",
                    "output_type": "stream",
                    "text": [
                        " ARIMA(1,1,1)(0,0,0)[0] intercept   : AIC=1839.552, Time=0.21 sec\n"
                    ]
                },
                {
                    "name": "stderr",
                    "output_type": "stream",
                    "text": [
                        "/home/vscode/.local/lib/python3.10/site-packages/sklearn/utils/deprecation.py:151: FutureWarning: 'force_all_finite' was renamed to 'ensure_all_finite' in 1.6 and will be removed in 1.8.\n",
                        "  warnings.warn(\n"
                    ]
                },
                {
                    "name": "stdout",
                    "output_type": "stream",
                    "text": [
                        " ARIMA(2,1,1)(0,0,0)[0] intercept   : AIC=1841.532, Time=0.39 sec\n",
                        " ARIMA(1,1,2)(0,0,0)[0] intercept   : AIC=1843.586, Time=0.13 sec\n"
                    ]
                },
                {
                    "name": "stderr",
                    "output_type": "stream",
                    "text": [
                        "/home/vscode/.local/lib/python3.10/site-packages/sklearn/utils/deprecation.py:151: FutureWarning: 'force_all_finite' was renamed to 'ensure_all_finite' in 1.6 and will be removed in 1.8.\n",
                        "  warnings.warn(\n",
                        "/home/vscode/.local/lib/python3.10/site-packages/sklearn/utils/deprecation.py:151: FutureWarning: 'force_all_finite' was renamed to 'ensure_all_finite' in 1.6 and will be removed in 1.8.\n",
                        "  warnings.warn(\n"
                    ]
                },
                {
                    "name": "stdout",
                    "output_type": "stream",
                    "text": [
                        " ARIMA(0,1,2)(0,0,0)[0] intercept   : AIC=1839.607, Time=0.24 sec\n",
                        " ARIMA(2,1,0)(0,0,0)[0] intercept   : AIC=1922.648, Time=0.06 sec\n"
                    ]
                },
                {
                    "name": "stderr",
                    "output_type": "stream",
                    "text": [
                        "/home/vscode/.local/lib/python3.10/site-packages/sklearn/utils/deprecation.py:151: FutureWarning: 'force_all_finite' was renamed to 'ensure_all_finite' in 1.6 and will be removed in 1.8.\n",
                        "  warnings.warn(\n",
                        "/home/vscode/.local/lib/python3.10/site-packages/sklearn/utils/deprecation.py:151: FutureWarning: 'force_all_finite' was renamed to 'ensure_all_finite' in 1.6 and will be removed in 1.8.\n",
                        "  warnings.warn(\n"
                    ]
                },
                {
                    "name": "stdout",
                    "output_type": "stream",
                    "text": [
                        " ARIMA(1,1,1)(0,0,0)[0]             : AIC=inf, Time=0.17 sec\n",
                        "\n",
                        "Best model:  ARIMA(1,1,1)(0,0,0)[0] intercept\n",
                        "Total fit time: 1.789 seconds\n"
                    ]
                }
            ],
            "source": [
                "model2 = auto_arima(ts, seasonal = False, trace = True, m = 12)\n"
            ]
        },
        {
            "cell_type": "markdown",
            "metadata": {},
            "source": [
                "Para este modelo no estacional los mejores parámetros son ARIMA(1,1,1)"
            ]
        },
        {
            "cell_type": "code",
            "execution_count": 52,
            "metadata": {},
            "outputs": [
                {
                    "data": {
                        "text/html": [
                            "<table class=\"simpletable\">\n",
                            "<caption>SARIMAX Results</caption>\n",
                            "<tr>\n",
                            "  <th>Dep. Variable:</th>           <td>y</td>        <th>  No. Observations:  </th>    <td>366</td>  \n",
                            "</tr>\n",
                            "<tr>\n",
                            "  <th>Model:</th>           <td>SARIMAX(1, 1, 1)</td> <th>  Log Likelihood     </th> <td>-915.776</td>\n",
                            "</tr>\n",
                            "<tr>\n",
                            "  <th>Date:</th>            <td>Thu, 06 Feb 2025</td> <th>  AIC                </th> <td>1839.552</td>\n",
                            "</tr>\n",
                            "<tr>\n",
                            "  <th>Time:</th>                <td>17:04:21</td>     <th>  BIC                </th> <td>1855.152</td>\n",
                            "</tr>\n",
                            "<tr>\n",
                            "  <th>Sample:</th>             <td>09-03-2022</td>    <th>  HQIC               </th> <td>1845.752</td>\n",
                            "</tr>\n",
                            "<tr>\n",
                            "  <th></th>                   <td>- 09-03-2023</td>   <th>                     </th>     <td> </td>   \n",
                            "</tr>\n",
                            "<tr>\n",
                            "  <th>Covariance Type:</th>        <td>opg</td>       <th>                     </th>     <td> </td>   \n",
                            "</tr>\n",
                            "</table>\n",
                            "<table class=\"simpletable\">\n",
                            "<tr>\n",
                            "      <td></td>         <th>coef</th>     <th>std err</th>      <th>z</th>      <th>P>|z|</th>  <th>[0.025</th>    <th>0.975]</th>  \n",
                            "</tr>\n",
                            "<tr>\n",
                            "  <th>intercept</th> <td>    2.8110</td> <td>    0.134</td> <td>   21.055</td> <td> 0.000</td> <td>    2.549</td> <td>    3.073</td>\n",
                            "</tr>\n",
                            "<tr>\n",
                            "  <th>ar.L1</th>     <td>   -0.0821</td> <td>    0.052</td> <td>   -1.592</td> <td> 0.111</td> <td>   -0.183</td> <td>    0.019</td>\n",
                            "</tr>\n",
                            "<tr>\n",
                            "  <th>ma.L1</th>     <td>   -0.9413</td> <td>    0.020</td> <td>  -47.701</td> <td> 0.000</td> <td>   -0.980</td> <td>   -0.903</td>\n",
                            "</tr>\n",
                            "<tr>\n",
                            "  <th>sigma2</th>    <td>    8.7903</td> <td>    0.688</td> <td>   12.777</td> <td> 0.000</td> <td>    7.442</td> <td>   10.139</td>\n",
                            "</tr>\n",
                            "</table>\n",
                            "<table class=\"simpletable\">\n",
                            "<tr>\n",
                            "  <th>Ljung-Box (L1) (Q):</th>     <td>0.00</td> <th>  Jarque-Bera (JB):  </th> <td>0.76</td>\n",
                            "</tr>\n",
                            "<tr>\n",
                            "  <th>Prob(Q):</th>                <td>1.00</td> <th>  Prob(JB):          </th> <td>0.68</td>\n",
                            "</tr>\n",
                            "<tr>\n",
                            "  <th>Heteroskedasticity (H):</th> <td>0.90</td> <th>  Skew:              </th> <td>0.07</td>\n",
                            "</tr>\n",
                            "<tr>\n",
                            "  <th>Prob(H) (two-sided):</th>    <td>0.58</td> <th>  Kurtosis:          </th> <td>2.82</td>\n",
                            "</tr>\n",
                            "</table><br/><br/>Warnings:<br/>[1] Covariance matrix calculated using the outer product of gradients (complex-step)."
                        ],
                        "text/latex": [
                            "\\begin{center}\n",
                            "\\begin{tabular}{lclc}\n",
                            "\\toprule\n",
                            "\\textbf{Dep. Variable:}          &        y         & \\textbf{  No. Observations:  } &    366      \\\\\n",
                            "\\textbf{Model:}                  & SARIMAX(1, 1, 1) & \\textbf{  Log Likelihood     } &  -915.776   \\\\\n",
                            "\\textbf{Date:}                   & Thu, 06 Feb 2025 & \\textbf{  AIC                } &  1839.552   \\\\\n",
                            "\\textbf{Time:}                   &     17:04:21     & \\textbf{  BIC                } &  1855.152   \\\\\n",
                            "\\textbf{Sample:}                 &    09-03-2022    & \\textbf{  HQIC               } &  1845.752   \\\\\n",
                            "\\textbf{}                        &   - 09-03-2023   & \\textbf{                     } &             \\\\\n",
                            "\\textbf{Covariance Type:}        &       opg        & \\textbf{                     } &             \\\\\n",
                            "\\bottomrule\n",
                            "\\end{tabular}\n",
                            "\\begin{tabular}{lcccccc}\n",
                            "                   & \\textbf{coef} & \\textbf{std err} & \\textbf{z} & \\textbf{P$> |$z$|$} & \\textbf{[0.025} & \\textbf{0.975]}  \\\\\n",
                            "\\midrule\n",
                            "\\textbf{intercept} &       2.8110  &        0.134     &    21.055  &         0.000        &        2.549    &        3.073     \\\\\n",
                            "\\textbf{ar.L1}     &      -0.0821  &        0.052     &    -1.592  &         0.111        &       -0.183    &        0.019     \\\\\n",
                            "\\textbf{ma.L1}     &      -0.9413  &        0.020     &   -47.701  &         0.000        &       -0.980    &       -0.903     \\\\\n",
                            "\\textbf{sigma2}    &       8.7903  &        0.688     &    12.777  &         0.000        &        7.442    &       10.139     \\\\\n",
                            "\\bottomrule\n",
                            "\\end{tabular}\n",
                            "\\begin{tabular}{lclc}\n",
                            "\\textbf{Ljung-Box (L1) (Q):}     & 0.00 & \\textbf{  Jarque-Bera (JB):  } & 0.76  \\\\\n",
                            "\\textbf{Prob(Q):}                & 1.00 & \\textbf{  Prob(JB):          } & 0.68  \\\\\n",
                            "\\textbf{Heteroskedasticity (H):} & 0.90 & \\textbf{  Skew:              } & 0.07  \\\\\n",
                            "\\textbf{Prob(H) (two-sided):}    & 0.58 & \\textbf{  Kurtosis:          } & 2.82  \\\\\n",
                            "\\bottomrule\n",
                            "\\end{tabular}\n",
                            "%\\caption{SARIMAX Results}\n",
                            "\\end{center}\n",
                            "\n",
                            "Warnings: \\newline\n",
                            " [1] Covariance matrix calculated using the outer product of gradients (complex-step)."
                        ],
                        "text/plain": [
                            "<class 'statsmodels.iolib.summary.Summary'>\n",
                            "\"\"\"\n",
                            "                               SARIMAX Results                                \n",
                            "==============================================================================\n",
                            "Dep. Variable:                      y   No. Observations:                  366\n",
                            "Model:               SARIMAX(1, 1, 1)   Log Likelihood                -915.776\n",
                            "Date:                Thu, 06 Feb 2025   AIC                           1839.552\n",
                            "Time:                        17:04:21   BIC                           1855.152\n",
                            "Sample:                    09-03-2022   HQIC                          1845.752\n",
                            "                         - 09-03-2023                                         \n",
                            "Covariance Type:                  opg                                         \n",
                            "==============================================================================\n",
                            "                 coef    std err          z      P>|z|      [0.025      0.975]\n",
                            "------------------------------------------------------------------------------\n",
                            "intercept      2.8110      0.134     21.055      0.000       2.549       3.073\n",
                            "ar.L1         -0.0821      0.052     -1.592      0.111      -0.183       0.019\n",
                            "ma.L1         -0.9413      0.020    -47.701      0.000      -0.980      -0.903\n",
                            "sigma2         8.7903      0.688     12.777      0.000       7.442      10.139\n",
                            "===================================================================================\n",
                            "Ljung-Box (L1) (Q):                   0.00   Jarque-Bera (JB):                 0.76\n",
                            "Prob(Q):                              1.00   Prob(JB):                         0.68\n",
                            "Heteroskedasticity (H):               0.90   Skew:                             0.07\n",
                            "Prob(H) (two-sided):                  0.58   Kurtosis:                         2.82\n",
                            "===================================================================================\n",
                            "\n",
                            "Warnings:\n",
                            "[1] Covariance matrix calculated using the outer product of gradients (complex-step).\n",
                            "\"\"\""
                        ]
                    },
                    "execution_count": 52,
                    "metadata": {},
                    "output_type": "execute_result"
                }
            ],
            "source": [
                "model2.summary()"
            ]
        },
        {
            "cell_type": "code",
            "execution_count": 46,
            "metadata": {},
            "outputs": [
                {
                    "data": {
                        "text/plain": [
                            "Timestamp('2023-09-03 17:10:08.079328')"
                        ]
                    },
                    "execution_count": 46,
                    "metadata": {},
                    "output_type": "execute_result"
                }
            ],
            "source": [
                "ts.index[-1]"
            ]
        },
        {
            "cell_type": "code",
            "execution_count": 49,
            "metadata": {},
            "outputs": [
                {
                    "name": "stderr",
                    "output_type": "stream",
                    "text": [
                        "/home/vscode/.local/lib/python3.10/site-packages/sklearn/utils/deprecation.py:151: FutureWarning: 'force_all_finite' was renamed to 'ensure_all_finite' in 1.6 and will be removed in 1.8.\n",
                        "  warnings.warn(\n"
                    ]
                },
                {
                    "data": {
                        "text/plain": [
                            "2023-09-04 17:10:08.079328    1002.158148\n",
                            "2023-09-05 17:10:08.079328    1004.831668\n",
                            "2023-09-06 17:10:08.079328    1007.423289\n",
                            "2023-09-07 17:10:08.079328    1010.021630\n",
                            "2023-09-08 17:10:08.079328    1012.619419\n",
                            "2023-09-09 17:10:08.079328    1015.217253\n",
                            "2023-09-10 17:10:08.079328    1017.815084\n",
                            "2023-09-11 17:10:08.079328    1020.412915\n",
                            "2023-09-12 17:10:08.079328    1023.010746\n",
                            "2023-09-13 17:10:08.079328    1025.608577\n",
                            "Freq: D, dtype: float64"
                        ]
                    },
                    "execution_count": 49,
                    "metadata": {},
                    "output_type": "execute_result"
                }
            ],
            "source": [
                "forecast2 = model.predict(10)\n",
                "forecast2"
            ]
        },
        {
            "cell_type": "code",
            "execution_count": 50,
            "metadata": {},
            "outputs": [
                {
                    "data": {
                        "image/png": "[encoded data removed]",
                        "text/plain": [
                            "<Figure size 1000x500 with 1 Axes>"
                        ]
                    },
                    "metadata": {},
                    "output_type": "display_data"
                }
            ],
            "source": [
                "fig, axis = plt.subplots(figsize = (10, 5))\n",
                "\n",
                "sns.lineplot(data = ts)\n",
                "sns.lineplot(data = forecast2, c = \"red\")\n",
                "\n",
                "plt.tight_layout()\n",
                "\n",
                "plt.show()"
            ]
        }
    ],
    "metadata": {
        "kernelspec": {
            "display_name": "Python 3",
            "language": "python",
            "name": "python3"
        },
        "language_info": {
            "codemirror_mode": {
                "name": "ipython",
                "version": 3
            },
            "file_extension": ".py",
            "mimetype": "text/x-python",
            "name": "python",
            "nbconvert_exporter": "python",
            "pygments_lexer": "ipython3",
            "version": "3.10.12"
        },
        "orig_nbformat": 4
    },
    "nbformat": 4,
    "nbformat_minor": 2
}
